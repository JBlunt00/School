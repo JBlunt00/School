{
  "metadata": {
    "kernelspec": {
      "name": "xpython",
      "display_name": "Python 3.13 (XPython)",
      "language": "python"
    },
    "language_info": {
      "file_extension": ".py",
      "mimetype": "text/x-python",
      "name": "python",
      "version": "3.13.1"
    }
  },
  "nbformat_minor": 5,
  "nbformat": 4,
  "cells": [
    {
      "id": "76bdf93f",
      "cell_type": "markdown",
      "source": "## 1. np.arange (10 odd numbers)",
      "metadata": {}
    },
    {
      "id": "ff849de8",
      "cell_type": "code",
      "source": "import numpy as np\nodd10 = np.arange(11, 31, 2)[:10]\nodd10\n",
      "metadata": {
        "trusted": true
      },
      "outputs": [
        {
          "execution_count": 1,
          "output_type": "execute_result",
          "data": {
            "text/plain": "array([11, 13, 15, 17, 19, 21, 23, 25, 27, 29])"
          },
          "metadata": {}
        }
      ],
      "execution_count": 1
    },
    {
      "id": "0cc174e9",
      "cell_type": "markdown",
      "source": "## 2. arr1 (4×5) and red-square slice",
      "metadata": {}
    },
    {
      "id": "4d6ca327",
      "cell_type": "code",
      "source": "rng = np.random.default_rng(1)\narr1 = rng.integers(1, 30, size=(4,5))\narr1, arr1[1:3, 1:4]\n",
      "metadata": {
        "trusted": true
      },
      "outputs": [
        {
          "execution_count": 2,
          "output_type": "execute_result",
          "data": {
            "text/plain": "(array([[14, 15, 22, 28,  2],\n        [ 5, 24, 28,  8, 10],\n        [26, 13,  8, 25,  8],\n        [12, 19, 16,  3,  1]], dtype=int64),\n array([[24, 28,  8],\n        [13,  8, 25]], dtype=int64))"
          },
          "metadata": {}
        }
      ],
      "execution_count": 2
    },
    {
      "id": "92be4ac6",
      "cell_type": "markdown",
      "source": "## 3. arr2 (4×2) and horizontal stack with arr1",
      "metadata": {}
    },
    {
      "id": "786978b5",
      "cell_type": "code",
      "source": "arr2 = np.array([[27,25],\n                 [ 8,12],\n                 [11,26],\n                 [25, 9]])\nstacked = np.hstack([arr1, arr2])\narr2, stacked\n",
      "metadata": {
        "trusted": true
      },
      "outputs": [
        {
          "execution_count": 3,
          "output_type": "execute_result",
          "data": {
            "text/plain": "(array([[27, 25],\n        [ 8, 12],\n        [11, 26],\n        [25,  9]]),\n array([[14, 15, 22, 28,  2, 27, 25],\n        [ 5, 24, 28,  8, 10,  8, 12],\n        [26, 13,  8, 25,  8, 11, 26],\n        [12, 19, 16,  3,  1, 25,  9]], dtype=int64))"
          },
          "metadata": {}
        }
      ],
      "execution_count": 3
    },
    {
      "id": "2a431b91",
      "cell_type": "markdown",
      "source": "## 4. Element-wise vs matrix multiplication; reshape to enable matmul",
      "metadata": {}
    },
    {
      "id": "0bba04b5",
      "cell_type": "code",
      "source": "# Element-wise (will error because shapes (4,5) and (4,2) don't align)\nelemwise_error = None\ntry:\n    elem = arr1 * arr2\nexcept Exception as e:\n    elemwise_error = str(e)\n\n# Matrix multiplication (will also error: (4x5)@(4x2) invalid)\nmatmul_error = None\ntry:\n    mm = arr1 @ arr2\nexcept Exception as e:\n    matmul_error = str(e)\n\n# Reshape arr1 to (5x4) so (5x4)@(4x2)->(5x2) works\narr1_rs = arr1.reshape(5,4)\ngood_mm = arr1_rs @ arr2\nelemwise_error, matmul_error, arr1_rs.shape, good_mm.shape\n",
      "metadata": {
        "trusted": true
      },
      "outputs": [
        {
          "execution_count": 4,
          "output_type": "execute_result",
          "data": {
            "text/plain": "('operands could not be broadcast together with shapes (4,5) (4,2) ',\n 'matmul: Input operand 1 has a mismatch in its core dimension 0, with gufunc signature (n?,k),(k,m?)->(n?,m?) (size 4 is different from 5)',\n (5, 4),\n (5, 2))"
          },
          "metadata": {}
        }
      ],
      "execution_count": 4
    },
    {
      "id": "073a6dac",
      "cell_type": "markdown",
      "source": "## 5. Data-cleaning pipeline (brief list)",
      "metadata": {}
    },
    {
      "id": "8060df5c",
      "cell_type": "code",
      "source": "steps = [\n    \"Explore (shape/head/dtypes)\",\n    \"Drop unused columns\",\n    \"Handle missing values\",\n    \"Deduplicate by key (url)\",\n    \"Validate ranges/outliers (rating in [0,5])\",\n    \"Standardize categories (institution/type)\",\n    \"Type casting\",\n    \"Document steps\"\n]\nsteps\n",
      "metadata": {
        "trusted": true
      },
      "outputs": [
        {
          "execution_count": 5,
          "output_type": "execute_result",
          "data": {
            "text/plain": "['Explore (shape/head/dtypes)',\n 'Drop unused columns',\n 'Handle missing values',\n 'Deduplicate by key (url)',\n 'Validate ranges/outliers (rating in [0,5])',\n 'Standardize categories (institution/type)',\n 'Type casting',\n 'Document steps']"
          },
          "metadata": {}
        }
      ],
      "execution_count": 5
    },
    {
      "id": "313ce652",
      "cell_type": "markdown",
      "source": "## 6. Overview: shape, head(10), dtypes",
      "metadata": {}
    },
    {
      "id": "c56e12db",
      "cell_type": "code",
      "source": "import pandas as pd\npd.set_option('display.max_columns', None)\n\ndf = pd.read_csv('/mnt/data/webautomation_coursera.csv')\ndf.shape, df.head(10), df.dtypes\n",
      "metadata": {
        "trusted": true
      },
      "outputs": [
        {
          "ename": "<class 'ModuleNotFoundError'>",
          "evalue": "No module named 'pandas'",
          "traceback": [
            "\u001b[31m---------------------------------------------------------------------------\u001b[39m",
            "\u001b[31mModuleNotFoundError\u001b[39m                       Traceback (most recent call last)",
            "\u001b[36mCell\u001b[39m\u001b[36m \u001b[39m\u001b[32mIn[6]\u001b[39m\u001b[32m, line 1\u001b[39m\n\u001b[32m----> \u001b[39m\u001b[32m1\u001b[39m \u001b[38;5;28;01mimport\u001b[39;00m\u001b[38;5;250m \u001b[39m\u001b[34;01mpandas\u001b[39;00m\u001b[38;5;250m \u001b[39m\u001b[38;5;28;01mas\u001b[39;00m\u001b[38;5;250m \u001b[39m\u001b[34;01mpd\u001b[39;00m\n\u001b[32m      2\u001b[39m pd.set_option(\u001b[33m'\u001b[39m\u001b[33mdisplay.max_columns\u001b[39m\u001b[33m'\u001b[39m, \u001b[38;5;28;01mNone\u001b[39;00m)\n\u001b[32m      4\u001b[39m df = pd.read_csv(\u001b[33m'\u001b[39m\u001b[33m/mnt/data/webautomation_coursera.csv\u001b[39m\u001b[33m'\u001b[39m)\n",
            "\u001b[31mModuleNotFoundError\u001b[39m: No module named 'pandas'"
          ],
          "output_type": "error"
        }
      ],
      "execution_count": 6
    },
    {
      "id": "d237bb44",
      "cell_type": "markdown",
      "source": "## 7. Drop unused columns",
      "metadata": {}
    },
    {
      "id": "fbe8fa5b",
      "cell_type": "code",
      "source": "to_drop = ['image', 'description', 'prerequisites', 'syllabus']\ndf = df.drop(columns=[c for c in to_drop if c in df.columns])\ndf.shape\n",
      "metadata": {
        "trusted": true
      },
      "outputs": [],
      "execution_count": null
    },
    {
      "id": "35b451c9",
      "cell_type": "markdown",
      "source": "## 8. Missing values (count and %)",
      "metadata": {}
    },
    {
      "id": "f73d8e17",
      "cell_type": "code",
      "source": "missing_count = df.isna().sum()\nmissing_pct = (missing_count / len(df) * 100).round(2)\npd.DataFrame({'missing_count': missing_count, 'missing_%': missing_pct}).sort_values('missing_count', ascending=False)\n",
      "metadata": {
        "trusted": true
      },
      "outputs": [],
      "execution_count": null
    },
    {
      "id": "59369b1d",
      "cell_type": "markdown",
      "source": "## 9. Fill language, drop missing rating, drop rows with >3 missing",
      "metadata": {}
    },
    {
      "id": "fcabdf8a",
      "cell_type": "code",
      "source": "if 'language' in df.columns:\n    df['language'] = df['language'].fillna('English')\n\nbefore = df.shape[0]\nif 'rating' in df.columns:\n    df = df.dropna(subset=['rating'])\nafter_missing_rating = before - df.shape[0]\n\nbefore = df.shape[0]\ndf = df[df.isna().sum(axis=1) <= 3]\nafter_row_filter = before - df.shape[0]\n\nafter_missing_rating, after_row_filter, df.shape\n",
      "metadata": {
        "trusted": true
      },
      "outputs": [],
      "execution_count": null
    },
    {
      "id": "9421292c",
      "cell_type": "markdown",
      "source": "## 10. Deduplicate by url (keep last) and report removed",
      "metadata": {}
    },
    {
      "id": "e03c7a8a",
      "cell_type": "code",
      "source": "before = df.shape\nif 'url' in df.columns:\n    df = df.drop_duplicates(subset=['url'], keep='last')\nafter = df.shape\nbefore, after, (before[0] - after[0])\n",
      "metadata": {
        "trusted": true
      },
      "outputs": [],
      "execution_count": null
    },
    {
      "id": "bd67d483",
      "cell_type": "markdown",
      "source": "## 11. Remove rating outliers (keep 0–5)",
      "metadata": {}
    },
    {
      "id": "15eaf5c2",
      "cell_type": "code",
      "source": "if 'rating' in df.columns:\n    bad = (df['rating'] < 0) | (df['rating'] > 5)\n    removed = int(bad.sum())\n    df = df[~bad].copy()\n    removed, df.shape\nelse:\n    df.shape\n",
      "metadata": {
        "trusted": true
      },
      "outputs": [],
      "execution_count": null
    },
    {
      "id": "baa11a01",
      "cell_type": "markdown",
      "source": "## 12. Rename institution column and merge common variants; clean type",
      "metadata": {}
    },
    {
      "id": "a7089e28",
      "cell_type": "code",
      "source": "def _norm(s):\n    if pd.isna(s): return s\n    s = str(s).strip().lower().replace('&', 'and')\n    for ch in [',', '.']:\n        s = s.replace(ch, ' ')\n    s = ' '.join(s.split())\n    return s\n\nif 'associated-university-institution-company' in df.columns:\n    df = df.rename(columns={'associated-university-institution-company':'institution'})\n\ncanon = {\n    'uwg': 'University of West Georgia',\n    'university of west georgia': 'University of West Georgia',\n    'ga tech': 'Georgia Tech',\n    'ga tech college': 'Georgia Tech',\n    'georgia institute of technology': 'Georgia Tech',\n    'georgia tech': 'Georgia Tech',\n}\n\nif 'institution' in df.columns:\n    n = df['institution'].map(_norm)\n    found = sorted(set([v for v in n.dropna().unique() if v in canon]))\n    df['institution'] = [canon.get(x, orig) for x, orig in zip(n, df['institution'])]\n    found  # show which normalized variants were found and merged\n\nif 'type' in df.columns:\n    tmap = {'beginner':'Beginner', 'intermediate':'Intermediate', 'advanced':'Advanced',\n            'mixed':'Mixed', 'all levels':'All Levels'}\n    tn = df['type'].map(_norm)\n    df['type'] = [tmap.get(x, orig) for x, orig in zip(tn, df['type'])]\n",
      "metadata": {
        "trusted": true
      },
      "outputs": [],
      "execution_count": null
    },
    {
      "id": "6c3f1f9d",
      "cell_type": "markdown",
      "source": "## 13. Average rating by institution (Top 5)",
      "metadata": {}
    },
    {
      "id": "7a7b03b4",
      "cell_type": "code",
      "source": "if {'institution','rating'}.issubset(df.columns):\n    top5 = (df.groupby('institution', dropna=True)['rating']\n              .mean()\n              .sort_values(ascending=False)\n              .round(3)\n              .head(5)\n              .reset_index(name='avg_rating'))\n    top5\n",
      "metadata": {
        "trusted": true
      },
      "outputs": [],
      "execution_count": null
    },
    {
      "id": "db0921fd",
      "cell_type": "markdown",
      "source": "## 14. Pivot: number of courses by level for each institution; show top providers",
      "metadata": {}
    },
    {
      "id": "3cba5f40",
      "cell_type": "code",
      "source": "if {'institution','type'}.issubset(df.columns):\n    value_col = 'url' if 'url' in df.columns else df.columns[0]\n    pivot = df.pivot_table(index='institution', columns='type',\n                           values=value_col, aggfunc='count', fill_value=0)\n    display(pivot)\n    for lvl in ['Advanced','Intermediate','Beginner']:\n        if lvl in pivot.columns:\n            m = pivot[lvl].max()\n            winners = pivot.index[pivot[lvl]==m].tolist()\n            print(f\"{lvl}: {winners} with {m} courses\")\n",
      "metadata": {
        "trusted": true
      },
      "outputs": [
        {
          "ename": "<class 'NameError'>",
          "evalue": "name 'df' is not defined",
          "traceback": [
            "\u001b[31m---------------------------------------------------------------------------\u001b[39m",
            "\u001b[31mNameError\u001b[39m                                 Traceback (most recent call last)",
            "\u001b[36mCell\u001b[39m\u001b[36m \u001b[39m\u001b[32mIn[7]\u001b[39m\u001b[32m, line 1\u001b[39m\n\u001b[32m----> \u001b[39m\u001b[32m1\u001b[39m \u001b[38;5;28;01mif\u001b[39;00m {\u001b[33m'\u001b[39m\u001b[33minstitution\u001b[39m\u001b[33m'\u001b[39m,\u001b[33m'\u001b[39m\u001b[33mtype\u001b[39m\u001b[33m'\u001b[39m}.issubset(\u001b[43mdf\u001b[49m.columns):\n\u001b[32m      2\u001b[39m     value_col = \u001b[33m'\u001b[39m\u001b[33murl\u001b[39m\u001b[33m'\u001b[39m \u001b[38;5;28;01mif\u001b[39;00m \u001b[33m'\u001b[39m\u001b[33murl\u001b[39m\u001b[33m'\u001b[39m \u001b[38;5;129;01min\u001b[39;00m df.columns \u001b[38;5;28;01melse\u001b[39;00m df.columns[\u001b[32m0\u001b[39m]\n\u001b[32m      3\u001b[39m     pivot = df.pivot_table(index=\u001b[33m'\u001b[39m\u001b[33minstitution\u001b[39m\u001b[33m'\u001b[39m, columns=\u001b[33m'\u001b[39m\u001b[33mtype\u001b[39m\u001b[33m'\u001b[39m,\n\u001b[32m      4\u001b[39m                            values=value_col, aggfunc=\u001b[33m'\u001b[39m\u001b[33mcount\u001b[39m\u001b[33m'\u001b[39m, fill_value=\u001b[32m0\u001b[39m)\n",
            "\u001b[31mNameError\u001b[39m: name 'df' is not defined"
          ],
          "output_type": "error"
        }
      ],
      "execution_count": 7
    },
    {
      "id": "f01a9479-6a00-474c-a379-3fa26932ade3",
      "cell_type": "code",
      "source": "",
      "metadata": {
        "trusted": true
      },
      "outputs": [],
      "execution_count": null
    }
  ]
}