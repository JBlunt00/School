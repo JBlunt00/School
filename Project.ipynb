{
 "cells": [
  {
   "cell_type": "markdown",
   "id": "6f05ac69",
   "metadata": {},
   "source": [
    "# X360 vs PS3 Video Game Sales (Kaggle vgsales)\n",
    "GitHub Repository https://github.com/your-username/x360-ps3-vgsales"
   ]
  },
  {
   "cell_type": "markdown",
   "id": "d73aa0a4",
   "metadata": {},
   "source": [
    "## 1. Dataset Description\n",
    "\n",
    "**Source:** Kaggle — Video Game Sales with Ratings (vgsales): https://www.kaggle.com/datasets/gregorut/videogamesales  \n",
    "\n",
    "**Brief:** Each row is one video game release with platform, year, genre, publisher, and regional sales (millions of units).  \n",
    "**Columns:** Rank, Name, Platform, Year, Genre, Publisher, NA_Sales, EU_Sales, JP_Sales, Other_Sales, Global_Sales.\n",
    "\n",
    "From the data, we're only looking at X360 (Xbox 360) and PS3 (PlayStation 3) titles only.\n"
   ]
  },
  {
   "cell_type": "code",
   "execution_count": null,
   "id": "1f9cb1df",
   "metadata": {},
   "outputs": [],
   "source": [
    "import pandas as pd\n",
    "import matplotlib.pyplot as plt\n",
    "\n",
    "df = pd.read_csv(\"vgsales.csv\")\n",
    "df.head()"
   ]
  },
  {
   "cell_type": "markdown",
   "id": "bc1888ea",
   "metadata": {},
   "source": [
    "## 2. Main Inquiry Question\n",
    "\n",
    "**Main question:**  \n",
    "**How did video games for Xbox 360 (X360) and PlayStation 3 (PS3) compare in sales and genres?**\n",
    "\n",
    "**Sub-questions:**  \n",
    "1. **Global sales comparison:** Which platform sold more globally overall?  \n",
    "2. **Genres:** What were the most popular genres on each platform?  \n",
    "3. **Regions:** Which platform performed better in specific regions\n",
    "\n"
   ]
  },
  {
   "cell_type": "markdown",
   "id": "b447950b",
   "metadata": {},
   "source": [
    "## 3. Data Cleaning\n",
    "\n",
    "- **a. Drop unwanted features**: We keep all analytic columns: Rank is optional and may be dropped.\n",
    "- **b. Missing values**: Inspect and handle missing in Year, sales columns, etc.\n",
    "- **c. Duplicates**: Remove exact duplicates.\n",
    "- **d. Data types**: Convert Year to integer; ensure sales columns are numeric.\n",
    "- **e. Categorical consistency**: Standardize Platform, Genre, Publisher\n",
    "- **f. Numeric outliers**: Inspect sales distributions\n",
    "\n"
   ]
  },
  {
   "cell_type": "code",
   "execution_count": null,
   "id": "f9ccfd8f",
   "metadata": {},
   "outputs": [],
   "source": [
    "cols = [\"Name\",\"Platform\",\"Year\",\"Genre\",\"Publisher\",\n",
    "        \"NA_Sales\",\"EU_Sales\",\"JP_Sales\",\"Other_Sales\",\"Global_Sales\"]\n",
    "df = df[cols].copy()\n",
    "\n",
    "df[\"Platform\"] = df[\"Platform\"].astype(str).str.upper().str.strip()\n",
    "df = df[df[\"Platform\"].isin([\"X360\",\"PS3\"])].copy()\n",
    "\n",
    "df[\"Year\"] = pd.to_numeric(df[\"Year\"], errors=\"coerce\").astype(\"Int64\")\n",
    "df = df.dropna(subset=[\"Global_Sales\"])\n",
    "df = df.drop_duplicates()\n",
    "\n",
    "print(\"Rows after cleaning:\", len(df))\n",
    "df.head()"
   ]
  },
  {
   "cell_type": "markdown",
   "id": "e32120a8",
   "metadata": {},
   "source": [
    "## 4. Exploratory Data Analysis & Interpretation\n",
    "\n",
    "### First Question. Which platform sold more globally overall?"
   ]
  },
  {
   "cell_type": "code",
   "execution_count": null,
   "id": "c350e6cc",
   "metadata": {},
   "outputs": [],
   "source": [
    "global_sales = df.groupby(\"Platform\")[\"Global_Sales\"].sum().reset_index()\n",
    "print(global_sales)\n",
    "\n",
    "plt.bar(global_sales[\"Platform\"], global_sales[\"Global_Sales\"])\n",
    "plt.title(\"Total Global Sales (X360 vs PS3)\")\n",
    "plt.xlabel(\"Platform\")\n",
    "plt.ylabel(\"Global Sales (millions)\")\n",
    "plt.show()"
   ]
  },
  {
   "cell_type": "code",
   "execution_count": null,
   "id": "b5216579",
   "metadata": {},
   "outputs": [],
   "source": [
    "genre_sales = df.pivot_table(index=\"Genre\", columns=\"Platform\",\n",
    "                             values=\"Global_Sales\", aggfunc=\"sum\", fill_value=0)\n",
    "\n",
    "top10 = genre_sales.sort_values(by=[\"PS3\",\"X360\"], ascending=False).head(10)\n",
    "print(top10)\n",
    "\n",
    "# PS3 chart\n",
    "plt.bar(top10.index, top10[\"PS3\"])\n",
    "plt.title(\"Top Genres by Global Sales (PS3)\")\n",
    "plt.xticks(rotation=45, ha=\"right\")\n",
    "plt.show()\n",
    "\n",
    "# X360 chart\n",
    "plt.bar(top10.index, top10[\"X360\"])\n",
    "plt.title(\"Top Genres by Global Sales (X360)\")\n",
    "plt.xticks(rotation=45, ha=\"right\")\n",
    "plt.show()"
   ]
  },
  {
   "cell_type": "markdown",
   "id": "01ae438a",
   "metadata": {},
   "source": [
    "**Interpretation:**  \n",
    "Compare the totals above. The taller bar indicates the platform with higher cumulative global sales across all listed titles. Keep in mind the dataset is based on reported sales\n"
   ]
  },
  {
   "cell_type": "markdown",
   "id": "76f54e52",
   "metadata": {},
   "source": [
    "### Second Question. What were the most popular genres on each platform?"
   ]
  },
  {
   "cell_type": "code",
   "execution_count": null,
   "id": "567d72b8",
   "metadata": {},
   "outputs": [],
   "source": [
    "# Q3: Regional sales (NA, EU, JP) by platform\n",
    "regions = df.groupby(\"Platform\")[[\"NA_Sales\",\"EU_Sales\",\"JP_Sales\"]].sum().reset_index()\n",
    "print(regions)\n",
    "\n",
    "# NA\n",
    "plt.figure(figsize=(5,3.5))\n",
    "plt.bar(regions[\"Platform\"], regions[\"NA_Sales\"])\n",
    "plt.title(\"North America (NA) Sales by Platform\")\n",
    "plt.xlabel(\"Platform\")\n",
    "plt.ylabel(\"NA Sales (millions)\")\n",
    "plt.tight_layout()\n",
    "plt.show()\n",
    "\n",
    "# EU\n",
    "plt.figure(figsize=(5,3.5))\n",
    "plt.bar(regions[\"Platform\"], regions[\"EU_Sales\"])\n",
    "plt.title(\"Europe (EU) Sales by Platform\")\n",
    "plt.xlabel(\"Platform\")\n",
    "plt.ylabel(\"EU Sales (millions)\")\n",
    "plt.tight_layout()\n",
    "plt.show()\n",
    "\n",
    "# JP\n",
    "plt.figure(figsize=(5,3.5))\n",
    "plt.bar(regions[\"Platform\"], regions[\"JP_Sales\"])\n",
    "plt.title(\"Japan (JP) Sales by Platform\")\n",
    "plt.xlabel(\"Platform\")\n",
    "plt.ylabel(\"JP Sales (millions)\")\n",
    "plt.tight_layout()\n",
    "plt.show()"
   ]
  },
  {
   "cell_type": "code",
   "execution_count": null,
   "id": "9c35b9ec",
   "metadata": {},
   "outputs": [],
   "source": [
    "top_x360 = (df[df[\"Platform\"]==\"X360\"]\n",
    "            .sort_values(\"Global_Sales\", ascending=False)\n",
    "            .head(5))[[\"Name\",\"Genre\",\"Publisher\",\"Year\",\"Global_Sales\"]]\n",
    "\n",
    "top_ps3 = (df[df[\"Platform\"]==\"PS3\"]\n",
    "           .sort_values(\"Global_Sales\", ascending=False)\n",
    "           .head(5))[[\"Name\",\"Genre\",\"Publisher\",\"Year\",\"Global_Sales\"]]\n",
    "\n",
    "print(\"Top X360 games:\")\n",
    "print(top_x360)\n",
    "print(\"\\nTop PS3 games:\")\n",
    "print(top_ps3)"
   ]
  },
  {
   "cell_type": "markdown",
   "id": "c851b5f9",
   "metadata": {},
   "source": [
    "**Interpretation:**  \n",
    "Compare which genres rank highest per platform. Note whether one platform over performs in certain genres. Differences can reflect platform audience, exclusives, and regional strengths.\n"
   ]
  },
  {
   "cell_type": "markdown",
   "id": "947fbe6e",
   "metadata": {},
   "source": [
    "### Third Question. Which platform performed better in specific regions?"
   ]
  },
  {
   "cell_type": "markdown",
   "id": "6dc8c580",
   "metadata": {},
   "source": [
    "**Interpretation:**  \n",
    "Identify the platform leading in each region by comparing bar heights. Historically, Xbox platforms often lead in North America, while PlayStation tends to be stronger in Japan; Europe can be mixed. Verify if the dataset reflects those patterns.\n"
   ]
  },
  {
   "cell_type": "markdown",
   "id": "d86f4b06",
   "metadata": {},
   "source": [
    "## 5. Summary\n",
    "\n",
    "**Results**\n",
    "- **Global:** Xbox 360 had the highest sales out of the two.  \n",
    "- **Genres:** Action was the top genre for PS3 and shooter was the top genre for Xbox 360.  \n",
    "- **Regions:** PS3 won out in Japan and Europe. The Xbox 360 won out in North America.\n",
    "\n",
    "**What I did not find/limitations**  \n",
    "- Dataset may not include every title or late re-releases; sales are rounded (millions).  \n",
    "- No temporal trend analysis included (you could extend by grouping by `Year`).  \n",
    "- Console exclusives' impact on these numbers.\n",
    "\n",
    "**Further exploration:**  \n",
    "- Add a time dimension to see how platform strengths changed.  \n",
    "- Compare median sales per game  \n",
    "- Examine publisher effects or exclusivity impacts within top genres. Back then, this was a big thing among the video game industry. Certain consoles had certain games where they were the only console that the game could be played on. Further more, these games tended to be high selling, highly popular games. \n"
   ]
  }
 ],
 "metadata": {
  "kernelspec": {
   "display_name": "Python [conda env:base] *",
   "language": "python",
   "name": "conda-base-py"
  },
  "language_info": {
   "codemirror_mode": {
    "name": "ipython",
    "version": 3
   },
   "file_extension": ".py",
   "mimetype": "text/x-python",
   "name": "python",
   "nbconvert_exporter": "python",
   "pygments_lexer": "ipython3",
   "version": "3.13.5"
  }
 },
 "nbformat": 4,
 "nbformat_minor": 5
}
